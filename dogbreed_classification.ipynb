{
  "cells": [
    {
      "cell_type": "code",
      "execution_count": 2,
      "metadata": {
        "id": "Invw0Oee4FZv",
        "colab": {
          "base_uri": "https://localhost:8080/"
        },
        "outputId": "39ff0ab5-3298-4ba5-c46a-4ba536d4949a"
      },
      "outputs": [
        {
          "output_type": "stream",
          "name": "stdout",
          "text": [
            "Mounted at /content/drive\n"
          ]
        }
      ],
      "source": [
        "from google.colab import drive\n",
        "drive.mount('/content/drive')"
      ]
    },
    {
      "cell_type": "code",
      "execution_count": 3,
      "metadata": {
        "id": "XV98VPH57UYe"
      },
      "outputs": [],
      "source": [
        "from zipfile import ZipFile\n",
        "\n",
        "def unzip_to_folder(filename):\n",
        "  with ZipFile(filename, 'r') as zip:\n",
        "    zip.extractall()\n",
        "    print('Done')"
      ]
    },
    {
      "cell_type": "code",
      "source": [
        "filename = '/content/drive/MyDrive/Dog breed classification/dog_breed.zip'\n",
        "unzip_to_folder(filename)\n",
        "\n",
        "filename = '/content/dog_breed/test.zip'\n",
        "unzip_to_folder(filename)\n",
        "\n",
        "filename = '/content/dog_breed/train.zip'\n",
        "unzip_to_folder(filename)"
      ],
      "metadata": {
        "colab": {
          "base_uri": "https://localhost:8080/"
        },
        "id": "zUBNZDosTjJH",
        "outputId": "3dda5cb1-1fd4-42e3-ea49-1b019e4b140f"
      },
      "execution_count": 4,
      "outputs": [
        {
          "output_type": "stream",
          "name": "stdout",
          "text": [
            "Done\n",
            "Done\n",
            "Done\n"
          ]
        }
      ]
    },
    {
      "cell_type": "code",
      "execution_count": 5,
      "metadata": {
        "colab": {
          "base_uri": "https://localhost:8080/"
        },
        "id": "2JMSBBsK-DBa",
        "outputId": "ea79d7ab-9912-4703-d71f-2f8e1212cb83"
      },
      "outputs": [
        {
          "output_type": "stream",
          "name": "stdout",
          "text": [
            "Fri Sep 16 16:38:44 2022       \n",
            "+-----------------------------------------------------------------------------+\n",
            "| NVIDIA-SMI 460.32.03    Driver Version: 460.32.03    CUDA Version: 11.2     |\n",
            "|-------------------------------+----------------------+----------------------+\n",
            "| GPU  Name        Persistence-M| Bus-Id        Disp.A | Volatile Uncorr. ECC |\n",
            "| Fan  Temp  Perf  Pwr:Usage/Cap|         Memory-Usage | GPU-Util  Compute M. |\n",
            "|                               |                      |               MIG M. |\n",
            "|===============================+======================+======================|\n",
            "|   0  Tesla T4            Off  | 00000000:00:04.0 Off |                    0 |\n",
            "| N/A   37C    P8    11W /  70W |      0MiB / 15109MiB |      0%      Default |\n",
            "|                               |                      |                  N/A |\n",
            "+-------------------------------+----------------------+----------------------+\n",
            "                                                                               \n",
            "+-----------------------------------------------------------------------------+\n",
            "| Processes:                                                                  |\n",
            "|  GPU   GI   CI        PID   Type   Process name                  GPU Memory |\n",
            "|        ID   ID                                                   Usage      |\n",
            "|=============================================================================|\n",
            "|  No running processes found                                                 |\n",
            "+-----------------------------------------------------------------------------+\n"
          ]
        }
      ],
      "source": [
        "!nvidia-smi"
      ]
    },
    {
      "cell_type": "code",
      "execution_count": 6,
      "metadata": {
        "id": "SkDcse6--QCL"
      },
      "outputs": [],
      "source": [
        "from tensorflow.keras.layers import Input, Lambda, Dense, Flatten\n",
        "from tensorflow.keras.models import Model\n",
        "from tensorflow.keras.applications.vgg19 import VGG19\n",
        "#from keras.applications.vgg19 import VGG19\n",
        "#from tensorflow.keras.applications.inception_v3 import preprocess_input\n",
        "from tensorflow.keras.preprocessing import image\n",
        "from tensorflow.keras.preprocessing.image import ImageDataGenerator,load_img\n",
        "from tensorflow.keras.models import Sequential\n",
        "import pandas as pd\n",
        "from glob import glob\n",
        "from keras.models import load_model\n",
        "import cv2\n",
        "import numpy as np"
      ]
    },
    {
      "cell_type": "code",
      "execution_count": 7,
      "metadata": {
        "id": "zn82AyaUCfDW"
      },
      "outputs": [],
      "source": [
        "epoch = 20\n",
        "opt = 'adam'\n",
        "bs = 32\n",
        "\n",
        "xcol = 'id'\n",
        "ycol = 'breed'"
      ]
    },
    {
      "cell_type": "code",
      "execution_count": 8,
      "metadata": {
        "id": "w6Y2dDEn-8ro"
      },
      "outputs": [],
      "source": [
        "IMAGE_SIZE = [64, 64]\n",
        "\n",
        "train_path = '/content/train/'\n",
        "test_path = '/content/test/'"
      ]
    },
    {
      "cell_type": "code",
      "execution_count": 9,
      "metadata": {
        "id": "bIr58u09_F9m",
        "colab": {
          "base_uri": "https://localhost:8080/"
        },
        "outputId": "b57d1e47-10f7-4719-9f0e-18112da299e7"
      },
      "outputs": [
        {
          "output_type": "stream",
          "name": "stdout",
          "text": [
            "Downloading data from https://storage.googleapis.com/tensorflow/keras-applications/vgg19/vgg19_weights_tf_dim_ordering_tf_kernels_notop.h5\n",
            "80142336/80134624 [==============================] - 1s 0us/step\n",
            "80150528/80134624 [==============================] - 1s 0us/step\n"
          ]
        }
      ],
      "source": [
        "vgg19 = VGG19(input_shape=IMAGE_SIZE + [3], weights='imagenet', include_top=False)"
      ]
    },
    {
      "cell_type": "code",
      "execution_count": 10,
      "metadata": {
        "id": "VOwynGuH_Joa"
      },
      "outputs": [],
      "source": [
        "# don't train existing weights\n",
        "for layer in vgg19.layers:\n",
        "    layer.trainable = False"
      ]
    },
    {
      "cell_type": "code",
      "source": [
        "def append_ext(fn):\n",
        "    return fn+\".jpg\"\n",
        "\n",
        "traindf= pd.read_csv(\"/content/dog_breed/labels.csv\",dtype=str)\n",
        "traindf[\"id\"]=traindf[\"id\"].apply(append_ext)\n",
        "datagen=ImageDataGenerator(rescale=1./255.,validation_split=0.25)"
      ],
      "metadata": {
        "id": "CdI94-HyWNcY"
      },
      "execution_count": 11,
      "outputs": []
    },
    {
      "cell_type": "code",
      "source": [
        "classes_len = len(traindf.breed.unique())"
      ],
      "metadata": {
        "id": "dO9KRPaIbVkJ"
      },
      "execution_count": 12,
      "outputs": []
    },
    {
      "cell_type": "code",
      "source": [
        "train_generator=datagen.flow_from_dataframe(\n",
        "  dataframe=traindf,\n",
        "  directory=\"/content/train/\",\n",
        "  x_col=xcol,\n",
        "  y_col=ycol,\n",
        "  subset=\"training\",\n",
        "  batch_size=bs,\n",
        "  seed=42,\n",
        "  shuffle=True,\n",
        "  class_mode=\"categorical\",\n",
        "  target_size=IMAGE_SIZE\n",
        ")\n",
        "\n",
        "\n",
        "valid_generator=datagen.flow_from_dataframe(\n",
        "  dataframe=traindf,\n",
        "  directory=\"/content/train/\",\n",
        "  x_col=xcol,\n",
        "  y_col=ycol,\n",
        "  subset=\"validation\",\n",
        "  batch_size=bs,\n",
        "  seed=42,\n",
        "  shuffle=True,\n",
        "  class_mode=\"categorical\",\n",
        "  target_size=IMAGE_SIZE\n",
        ")\n",
        "\n",
        "\n",
        "test_datagen=ImageDataGenerator(rescale=1./255.)\n",
        "test_generator=test_datagen.flow_from_dataframe(\n",
        "  dataframe=traindf,\n",
        "  directory=\"/content/test/\",\n",
        "  x_col=\"id\",\n",
        "  y_col=None,\n",
        "  batch_size=32,\n",
        "  seed=42,\n",
        "  shuffle=False,\n",
        "  class_mode=None,\n",
        "  target_size=IMAGE_SIZE\n",
        ")"
      ],
      "metadata": {
        "colab": {
          "base_uri": "https://localhost:8080/"
        },
        "id": "-vPjnuQ5WYhK",
        "outputId": "ddbf3ab8-cbab-43b7-9fde-ebee0da1836c"
      },
      "execution_count": 13,
      "outputs": [
        {
          "output_type": "stream",
          "name": "stdout",
          "text": [
            "Found 7667 validated image filenames belonging to 120 classes.\n",
            "Found 2555 validated image filenames belonging to 120 classes.\n",
            "Found 0 validated image filenames.\n"
          ]
        },
        {
          "output_type": "stream",
          "name": "stderr",
          "text": [
            "/usr/local/lib/python3.7/dist-packages/keras_preprocessing/image/dataframe_iterator.py:282: UserWarning: Found 10222 invalid image filename(s) in x_col=\"id\". These filename(s) will be ignored.\n",
            "  .format(n_invalid, x_col)\n"
          ]
        }
      ]
    },
    {
      "cell_type": "code",
      "source": [],
      "metadata": {
        "id": "NHP-_uTgbOUB"
      },
      "execution_count": null,
      "outputs": []
    },
    {
      "cell_type": "code",
      "execution_count": 14,
      "metadata": {
        "colab": {
          "base_uri": "https://localhost:8080/"
        },
        "id": "dnJ8ne0C_ZR2",
        "outputId": "173cbca0-d702-48ad-c937-5e9a5b921464"
      },
      "outputs": [
        {
          "output_type": "stream",
          "name": "stdout",
          "text": [
            "Model: \"model\"\n",
            "_________________________________________________________________\n",
            " Layer (type)                Output Shape              Param #   \n",
            "=================================================================\n",
            " input_1 (InputLayer)        [(None, 64, 64, 3)]       0         \n",
            "                                                                 \n",
            " block1_conv1 (Conv2D)       (None, 64, 64, 64)        1792      \n",
            "                                                                 \n",
            " block1_conv2 (Conv2D)       (None, 64, 64, 64)        36928     \n",
            "                                                                 \n",
            " block1_pool (MaxPooling2D)  (None, 32, 32, 64)        0         \n",
            "                                                                 \n",
            " block2_conv1 (Conv2D)       (None, 32, 32, 128)       73856     \n",
            "                                                                 \n",
            " block2_conv2 (Conv2D)       (None, 32, 32, 128)       147584    \n",
            "                                                                 \n",
            " block2_pool (MaxPooling2D)  (None, 16, 16, 128)       0         \n",
            "                                                                 \n",
            " block3_conv1 (Conv2D)       (None, 16, 16, 256)       295168    \n",
            "                                                                 \n",
            " block3_conv2 (Conv2D)       (None, 16, 16, 256)       590080    \n",
            "                                                                 \n",
            " block3_conv3 (Conv2D)       (None, 16, 16, 256)       590080    \n",
            "                                                                 \n",
            " block3_conv4 (Conv2D)       (None, 16, 16, 256)       590080    \n",
            "                                                                 \n",
            " block3_pool (MaxPooling2D)  (None, 8, 8, 256)         0         \n",
            "                                                                 \n",
            " block4_conv1 (Conv2D)       (None, 8, 8, 512)         1180160   \n",
            "                                                                 \n",
            " block4_conv2 (Conv2D)       (None, 8, 8, 512)         2359808   \n",
            "                                                                 \n",
            " block4_conv3 (Conv2D)       (None, 8, 8, 512)         2359808   \n",
            "                                                                 \n",
            " block4_conv4 (Conv2D)       (None, 8, 8, 512)         2359808   \n",
            "                                                                 \n",
            " block4_pool (MaxPooling2D)  (None, 4, 4, 512)         0         \n",
            "                                                                 \n",
            " block5_conv1 (Conv2D)       (None, 4, 4, 512)         2359808   \n",
            "                                                                 \n",
            " block5_conv2 (Conv2D)       (None, 4, 4, 512)         2359808   \n",
            "                                                                 \n",
            " block5_conv3 (Conv2D)       (None, 4, 4, 512)         2359808   \n",
            "                                                                 \n",
            " block5_conv4 (Conv2D)       (None, 4, 4, 512)         2359808   \n",
            "                                                                 \n",
            " block5_pool (MaxPooling2D)  (None, 2, 2, 512)         0         \n",
            "                                                                 \n",
            " flatten (Flatten)           (None, 2048)              0         \n",
            "                                                                 \n",
            " dense (Dense)               (None, 120)               245880    \n",
            "                                                                 \n",
            "=================================================================\n",
            "Total params: 20,270,264\n",
            "Trainable params: 245,880\n",
            "Non-trainable params: 20,024,384\n",
            "_________________________________________________________________\n"
          ]
        }
      ],
      "source": [
        "# our layers - you can add more if you want\n",
        "x = Flatten()(vgg19.output)\n",
        "\n",
        "prediction = Dense(classes_len, activation='softmax')(x)\n",
        "\n",
        "# create a model object\n",
        "model = Model(inputs=vgg19.input, outputs=prediction)\n",
        "\n",
        "model.compile(\n",
        "  loss='categorical_crossentropy',\n",
        "  optimizer=opt,\n",
        "  metrics=['accuracy']\n",
        ")\n",
        "\n",
        "# view the structure of the model\n",
        "model.summary()"
      ]
    },
    {
      "cell_type": "code",
      "execution_count": 15,
      "metadata": {
        "id": "tyhQBvpj_0dt",
        "colab": {
          "base_uri": "https://localhost:8080/"
        },
        "outputId": "75231043-b1d9-490b-a541-36a5ab394b04"
      },
      "outputs": [
        {
          "output_type": "stream",
          "name": "stderr",
          "text": [
            "/usr/local/lib/python3.7/dist-packages/ipykernel_launcher.py:8: UserWarning: `Model.fit_generator` is deprecated and will be removed in a future version. Please use `Model.fit`, which supports generators.\n",
            "  \n"
          ]
        },
        {
          "output_type": "stream",
          "name": "stdout",
          "text": [
            "Epoch 1/20\n",
            "239/239 [==============================] - 39s 116ms/step - loss: 4.7701 - accuracy: 0.0310\n",
            "Epoch 2/20\n",
            "239/239 [==============================] - 26s 110ms/step - loss: 3.9926 - accuracy: 0.1280\n",
            "Epoch 3/20\n",
            "239/239 [==============================] - 26s 109ms/step - loss: 3.5778 - accuracy: 0.2037\n",
            "Epoch 4/20\n",
            "239/239 [==============================] - 28s 116ms/step - loss: 3.2486 - accuracy: 0.2675\n",
            "Epoch 5/20\n",
            "239/239 [==============================] - 26s 109ms/step - loss: 2.9849 - accuracy: 0.3319\n",
            "Epoch 6/20\n",
            "239/239 [==============================] - 26s 109ms/step - loss: 2.7595 - accuracy: 0.3859\n",
            "Epoch 7/20\n",
            "239/239 [==============================] - 28s 117ms/step - loss: 2.5648 - accuracy: 0.4325\n",
            "Epoch 8/20\n",
            "239/239 [==============================] - 26s 109ms/step - loss: 2.3760 - accuracy: 0.4830\n",
            "Epoch 9/20\n",
            "239/239 [==============================] - 26s 109ms/step - loss: 2.2323 - accuracy: 0.5259\n",
            "Epoch 10/20\n",
            "239/239 [==============================] - 26s 109ms/step - loss: 2.0991 - accuracy: 0.5496\n",
            "Epoch 11/20\n",
            "239/239 [==============================] - 26s 110ms/step - loss: 1.9587 - accuracy: 0.5982\n",
            "Epoch 12/20\n",
            "239/239 [==============================] - 28s 116ms/step - loss: 1.8413 - accuracy: 0.6317\n",
            "Epoch 13/20\n",
            "239/239 [==============================] - 26s 109ms/step - loss: 1.7258 - accuracy: 0.6593\n",
            "Epoch 14/20\n",
            "239/239 [==============================] - 26s 108ms/step - loss: 1.6339 - accuracy: 0.6840\n",
            "Epoch 15/20\n",
            "239/239 [==============================] - 26s 108ms/step - loss: 1.5461 - accuracy: 0.7073\n",
            "Epoch 16/20\n",
            "239/239 [==============================] - 26s 110ms/step - loss: 1.4580 - accuracy: 0.7341\n",
            "Epoch 17/20\n",
            "239/239 [==============================] - 28s 116ms/step - loss: 1.3749 - accuracy: 0.7485\n",
            "Epoch 18/20\n",
            "239/239 [==============================] - 26s 108ms/step - loss: 1.2930 - accuracy: 0.7802\n",
            "Epoch 19/20\n",
            "239/239 [==============================] - 26s 108ms/step - loss: 1.2240 - accuracy: 0.7932\n",
            "Epoch 20/20\n",
            "239/239 [==============================] - 26s 107ms/step - loss: 1.1502 - accuracy: 0.8123\n"
          ]
        },
        {
          "output_type": "execute_result",
          "data": {
            "text/plain": [
              "<keras.callbacks.History at 0x7fd9fe0f9f10>"
            ]
          },
          "metadata": {},
          "execution_count": 15
        }
      ],
      "source": [
        "# tell the model what cost and optimization method to use\n",
        "\n",
        "STEP_SIZE_TRAIN=train_generator.n//train_generator.batch_size\n",
        "#STEP_SIZE_VALID=valid_generator.n//valid_generator.batch_size\n",
        "STEP_SIZE_TEST=test_generator.n//test_generator.batch_size\n",
        "history = model.fit_generator(generator=train_generator,\n",
        "                    steps_per_epoch=STEP_SIZE_TRAIN,\n",
        "                    epochs=20\n",
        ")"
      ]
    },
    {
      "cell_type": "code",
      "execution_count": null,
      "metadata": {
        "colab": {
          "base_uri": "https://localhost:8080/",
          "height": 530
        },
        "id": "wHrmWIO4BMPF",
        "outputId": "fe11d0a1-8340-47fc-9cc7-4588419f4942"
      },
      "outputs": [
        {
          "data": {
            "image/png": "[encoded data removed]",
            "text/plain": [
              "<Figure size 432x288 with 1 Axes>"
            ]
          },
          "metadata": {},
          "output_type": "display_data"
        },
        {
          "data": {
            "image/png": "[encoded data removed]",
            "text/plain": [
              "<Figure size 432x288 with 1 Axes>"
            ]
          },
          "metadata": {},
          "output_type": "display_data"
        },
        {
          "data": {
            "text/plain": [
              "<Figure size 432x288 with 0 Axes>"
            ]
          },
          "metadata": {},
          "output_type": "display_data"
        }
      ],
      "source": [
        "import matplotlib.pyplot as plt\n",
        "\n",
        "\n",
        "# plot the loss\n",
        "plt.plot(history.history['loss'], label='train loss')\n",
        "plt.plot(history.history['val_loss'], label='val loss')\n",
        "plt.legend()\n",
        "plt.show()\n",
        "plt.savefig('LossVal_loss')\n",
        "\n",
        "# plot the accuracy\n",
        "plt.plot(history.history['accuracy'], label='train acc')\n",
        "plt.plot(history.history['val_accuracy'], label='val acc')\n",
        "plt.legend()\n",
        "plt.show()\n",
        "plt.savefig('AccVal_acc')"
      ]
    },
    {
      "cell_type": "code",
      "execution_count": 20,
      "metadata": {
        "id": "r-iXjeo61aAa"
      },
      "outputs": [],
      "source": [
        "from tensorflow.keras.models import load_model\n",
        "\n",
        "model.save('dogbreed_vgg19.h5')"
      ]
    },
    {
      "cell_type": "code",
      "source": [
        "sub_file['Max'] = sub_file.iloc[:,1:].idxmax(axis=1)"
      ],
      "metadata": {
        "id": "3F3PHZw8akV7"
      },
      "execution_count": 37,
      "outputs": []
    },
    {
      "cell_type": "code",
      "execution_count": 32,
      "metadata": {
        "colab": {
          "base_uri": "https://localhost:8080/",
          "height": 17
        },
        "id": "owfq9viKNe37",
        "outputId": "70a655ed-4288-4b5e-a4ac-f5593c1e8103"
      },
      "outputs": [
        {
          "output_type": "display_data",
          "data": {
            "text/plain": [
              "<IPython.core.display.Javascript object>"
            ],
            "application/javascript": [
              "\n",
              "    async function download(id, filename, size) {\n",
              "      if (!google.colab.kernel.accessAllowed) {\n",
              "        return;\n",
              "      }\n",
              "      const div = document.createElement('div');\n",
              "      const label = document.createElement('label');\n",
              "      label.textContent = `Downloading \"${filename}\": `;\n",
              "      div.appendChild(label);\n",
              "      const progress = document.createElement('progress');\n",
              "      progress.max = size;\n",
              "      div.appendChild(progress);\n",
              "      document.body.appendChild(div);\n",
              "\n",
              "      const buffers = [];\n",
              "      let downloaded = 0;\n",
              "\n",
              "      const channel = await google.colab.kernel.comms.open(id);\n",
              "      // Send a message to notify the kernel that we're ready.\n",
              "      channel.send({})\n",
              "\n",
              "      for await (const message of channel.messages) {\n",
              "        // Send a message to notify the kernel that we're ready.\n",
              "        channel.send({})\n",
              "        if (message.buffers) {\n",
              "          for (const buffer of message.buffers) {\n",
              "            buffers.push(buffer);\n",
              "            downloaded += buffer.byteLength;\n",
              "            progress.value = downloaded;\n",
              "          }\n",
              "        }\n",
              "      }\n",
              "      const blob = new Blob(buffers, {type: 'application/binary'});\n",
              "      const a = document.createElement('a');\n",
              "      a.href = window.URL.createObjectURL(blob);\n",
              "      a.download = filename;\n",
              "      div.appendChild(a);\n",
              "      a.click();\n",
              "      div.remove();\n",
              "    }\n",
              "  "
            ]
          },
          "metadata": {}
        },
        {
          "output_type": "display_data",
          "data": {
            "text/plain": [
              "<IPython.core.display.Javascript object>"
            ],
            "application/javascript": [
              "download(\"download_8b325081-a5ad-45d1-9465-c67cac7e0297\", \"data.json\", 2801)"
            ]
          },
          "metadata": {}
        }
      ],
      "source": [
        "from google.colab import files\n",
        "files.download('data.json')"
      ]
    },
    {
      "cell_type": "code",
      "execution_count": 22,
      "metadata": {
        "id": "qYBR20-oNrva"
      },
      "outputs": [],
      "source": [
        "inv_map = {v: k for k, v in train_generator.class_indices.items()}"
      ]
    },
    {
      "cell_type": "code",
      "source": [
        "import json\n",
        "\n",
        "with open('data.json', 'w') as fp:\n",
        "    json.dump(inv_map, fp)"
      ],
      "metadata": {
        "id": "HhdkUzo1S3gR"
      },
      "execution_count": 23,
      "outputs": []
    }
  ],
  "metadata": {
    "accelerator": "GPU",
    "colab": {
      "collapsed_sections": [],
      "provenance": []
    },
    "kernelspec": {
      "display_name": "Python 3",
      "name": "python3"
    },
    "language_info": {
      "name": "python"
    }
  },
  "nbformat": 4,
  "nbformat_minor": 0
}